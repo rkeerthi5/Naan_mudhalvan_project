{
  "nbformat": 4,
  "nbformat_minor": 0,
  "metadata": {
    "colab": {
      "provenance": [],
      "gpuType": "T4"
    },
    "kernelspec": {
      "name": "python3",
      "display_name": "Python 3"
    },
    "language_info": {
      "name": "python"
    },
    "accelerator": "GPU"
  },
  "cells": [
    {
      "cell_type": "code",
      "execution_count": 1,
      "metadata": {
        "id": "LpGsKUgcnboZ",
        "colab": {
          "base_uri": "https://localhost:8080/"
        },
        "outputId": "48b06f5b-7e0e-477d-eea2-c5816f38eba7"
      },
      "outputs": [
        {
          "output_type": "stream",
          "name": "stderr",
          "text": [
            "[nltk_data] Downloading package wordnet to /root/nltk_data...\n",
            "[nltk_data]   Package wordnet is already up-to-date!\n"
          ]
        },
        {
          "output_type": "execute_result",
          "data": {
            "text/plain": [
              "True"
            ]
          },
          "metadata": {},
          "execution_count": 1
        }
      ],
      "source": [
        "import tensorflow as tf\n",
        "import pandas as pd\n",
        "import numpy as np\n",
        "import random\n",
        "import nltk\n",
        "from nltk.corpus import wordnet\n",
        "from transformers import BertTokenizer, TFBertForSequenceClassification\n",
        "from tensorflow.keras.optimizers import Adam\n",
        "from tensorflow.keras.losses import SparseCategoricalCrossentropy\n",
        "from tensorflow.keras.callbacks import EarlyStopping\n",
        "from sklearn.utils import class_weight, resample\n",
        "from sklearn.metrics import classification_report\n",
        "import re\n",
        "from sklearn.model_selection import train_test_split\n",
        "\n",
        "# Download WordNet\n",
        "nltk.download('wordnet')"
      ]
    },
    {
      "cell_type": "code",
      "source": [
        "# Load train and evaluation datasets\n",
        "train_df = pd.read_excel(\"train.xlsx\")\n",
        "eval_df = pd.read_excel(\"evaluation.xlsx\")\n",
        "\n",
        "train_df.head()"
      ],
      "metadata": {
        "colab": {
          "base_uri": "https://localhost:8080/",
          "height": 206
        },
        "id": "6DaHed3kpK-z",
        "outputId": "75ee9252-64e4-4676-cb58-38f4ccf2b3f3"
      },
      "execution_count": 2,
      "outputs": [
        {
          "output_type": "execute_result",
          "data": {
            "text/plain": [
              "                                            text  \\\n",
              "0  this is an amazing app for online classes!but   \n",
              "1                 very practical and easy to use   \n",
              "2  this app is very good for video conferencing.   \n",
              "3               i can not download this zoom app   \n",
              "4             i am not able to download this app   \n",
              "\n",
              "                                   reason  label  \n",
              "0  good app for conducting online classes      1  \n",
              "1                    app is user-friendly      1  \n",
              "2             good for video conferencing      1  \n",
              "3             unable to download zoom app      1  \n",
              "4                want to download the app      1  "
            ],
            "text/html": [
              "\n",
              "  <div id=\"df-c94ec5be-dd51-4c21-9ece-2848be0c1a3e\" class=\"colab-df-container\">\n",
              "    <div>\n",
              "<style scoped>\n",
              "    .dataframe tbody tr th:only-of-type {\n",
              "        vertical-align: middle;\n",
              "    }\n",
              "\n",
              "    .dataframe tbody tr th {\n",
              "        vertical-align: top;\n",
              "    }\n",
              "\n",
              "    .dataframe thead th {\n",
              "        text-align: right;\n",
              "    }\n",
              "</style>\n",
              "<table border=\"1\" class=\"dataframe\">\n",
              "  <thead>\n",
              "    <tr style=\"text-align: right;\">\n",
              "      <th></th>\n",
              "      <th>text</th>\n",
              "      <th>reason</th>\n",
              "      <th>label</th>\n",
              "    </tr>\n",
              "  </thead>\n",
              "  <tbody>\n",
              "    <tr>\n",
              "      <th>0</th>\n",
              "      <td>this is an amazing app for online classes!but</td>\n",
              "      <td>good app for conducting online classes</td>\n",
              "      <td>1</td>\n",
              "    </tr>\n",
              "    <tr>\n",
              "      <th>1</th>\n",
              "      <td>very practical and easy to use</td>\n",
              "      <td>app is user-friendly</td>\n",
              "      <td>1</td>\n",
              "    </tr>\n",
              "    <tr>\n",
              "      <th>2</th>\n",
              "      <td>this app is very good for video conferencing.</td>\n",
              "      <td>good for video conferencing</td>\n",
              "      <td>1</td>\n",
              "    </tr>\n",
              "    <tr>\n",
              "      <th>3</th>\n",
              "      <td>i can not download this zoom app</td>\n",
              "      <td>unable to download zoom app</td>\n",
              "      <td>1</td>\n",
              "    </tr>\n",
              "    <tr>\n",
              "      <th>4</th>\n",
              "      <td>i am not able to download this app</td>\n",
              "      <td>want to download the app</td>\n",
              "      <td>1</td>\n",
              "    </tr>\n",
              "  </tbody>\n",
              "</table>\n",
              "</div>\n",
              "    <div class=\"colab-df-buttons\">\n",
              "\n",
              "  <div class=\"colab-df-container\">\n",
              "    <button class=\"colab-df-convert\" onclick=\"convertToInteractive('df-c94ec5be-dd51-4c21-9ece-2848be0c1a3e')\"\n",
              "            title=\"Convert this dataframe to an interactive table.\"\n",
              "            style=\"display:none;\">\n",
              "\n",
              "  <svg xmlns=\"http://www.w3.org/2000/svg\" height=\"24px\" viewBox=\"0 -960 960 960\">\n",
              "    <path d=\"M120-120v-720h720v720H120Zm60-500h600v-160H180v160Zm220 220h160v-160H400v160Zm0 220h160v-160H400v160ZM180-400h160v-160H180v160Zm440 0h160v-160H620v160ZM180-180h160v-160H180v160Zm440 0h160v-160H620v160Z\"/>\n",
              "  </svg>\n",
              "    </button>\n",
              "\n",
              "  <style>\n",
              "    .colab-df-container {\n",
              "      display:flex;\n",
              "      gap: 12px;\n",
              "    }\n",
              "\n",
              "    .colab-df-convert {\n",
              "      background-color: #E8F0FE;\n",
              "      border: none;\n",
              "      border-radius: 50%;\n",
              "      cursor: pointer;\n",
              "      display: none;\n",
              "      fill: #1967D2;\n",
              "      height: 32px;\n",
              "      padding: 0 0 0 0;\n",
              "      width: 32px;\n",
              "    }\n",
              "\n",
              "    .colab-df-convert:hover {\n",
              "      background-color: #E2EBFA;\n",
              "      box-shadow: 0px 1px 2px rgba(60, 64, 67, 0.3), 0px 1px 3px 1px rgba(60, 64, 67, 0.15);\n",
              "      fill: #174EA6;\n",
              "    }\n",
              "\n",
              "    .colab-df-buttons div {\n",
              "      margin-bottom: 4px;\n",
              "    }\n",
              "\n",
              "    [theme=dark] .colab-df-convert {\n",
              "      background-color: #3B4455;\n",
              "      fill: #D2E3FC;\n",
              "    }\n",
              "\n",
              "    [theme=dark] .colab-df-convert:hover {\n",
              "      background-color: #434B5C;\n",
              "      box-shadow: 0px 1px 3px 1px rgba(0, 0, 0, 0.15);\n",
              "      filter: drop-shadow(0px 1px 2px rgba(0, 0, 0, 0.3));\n",
              "      fill: #FFFFFF;\n",
              "    }\n",
              "  </style>\n",
              "\n",
              "    <script>\n",
              "      const buttonEl =\n",
              "        document.querySelector('#df-c94ec5be-dd51-4c21-9ece-2848be0c1a3e button.colab-df-convert');\n",
              "      buttonEl.style.display =\n",
              "        google.colab.kernel.accessAllowed ? 'block' : 'none';\n",
              "\n",
              "      async function convertToInteractive(key) {\n",
              "        const element = document.querySelector('#df-c94ec5be-dd51-4c21-9ece-2848be0c1a3e');\n",
              "        const dataTable =\n",
              "          await google.colab.kernel.invokeFunction('convertToInteractive',\n",
              "                                                    [key], {});\n",
              "        if (!dataTable) return;\n",
              "\n",
              "        const docLinkHtml = 'Like what you see? Visit the ' +\n",
              "          '<a target=\"_blank\" href=https://colab.research.google.com/notebooks/data_table.ipynb>data table notebook</a>'\n",
              "          + ' to learn more about interactive tables.';\n",
              "        element.innerHTML = '';\n",
              "        dataTable['output_type'] = 'display_data';\n",
              "        await google.colab.output.renderOutput(dataTable, element);\n",
              "        const docLink = document.createElement('div');\n",
              "        docLink.innerHTML = docLinkHtml;\n",
              "        element.appendChild(docLink);\n",
              "      }\n",
              "    </script>\n",
              "  </div>\n",
              "\n",
              "\n",
              "<div id=\"df-eb9358b9-d0fa-4499-9e7b-e65aa36459ce\">\n",
              "  <button class=\"colab-df-quickchart\" onclick=\"quickchart('df-eb9358b9-d0fa-4499-9e7b-e65aa36459ce')\"\n",
              "            title=\"Suggest charts\"\n",
              "            style=\"display:none;\">\n",
              "\n",
              "<svg xmlns=\"http://www.w3.org/2000/svg\" height=\"24px\"viewBox=\"0 0 24 24\"\n",
              "     width=\"24px\">\n",
              "    <g>\n",
              "        <path d=\"M19 3H5c-1.1 0-2 .9-2 2v14c0 1.1.9 2 2 2h14c1.1 0 2-.9 2-2V5c0-1.1-.9-2-2-2zM9 17H7v-7h2v7zm4 0h-2V7h2v10zm4 0h-2v-4h2v4z\"/>\n",
              "    </g>\n",
              "</svg>\n",
              "  </button>\n",
              "\n",
              "<style>\n",
              "  .colab-df-quickchart {\n",
              "      --bg-color: #E8F0FE;\n",
              "      --fill-color: #1967D2;\n",
              "      --hover-bg-color: #E2EBFA;\n",
              "      --hover-fill-color: #174EA6;\n",
              "      --disabled-fill-color: #AAA;\n",
              "      --disabled-bg-color: #DDD;\n",
              "  }\n",
              "\n",
              "  [theme=dark] .colab-df-quickchart {\n",
              "      --bg-color: #3B4455;\n",
              "      --fill-color: #D2E3FC;\n",
              "      --hover-bg-color: #434B5C;\n",
              "      --hover-fill-color: #FFFFFF;\n",
              "      --disabled-bg-color: #3B4455;\n",
              "      --disabled-fill-color: #666;\n",
              "  }\n",
              "\n",
              "  .colab-df-quickchart {\n",
              "    background-color: var(--bg-color);\n",
              "    border: none;\n",
              "    border-radius: 50%;\n",
              "    cursor: pointer;\n",
              "    display: none;\n",
              "    fill: var(--fill-color);\n",
              "    height: 32px;\n",
              "    padding: 0;\n",
              "    width: 32px;\n",
              "  }\n",
              "\n",
              "  .colab-df-quickchart:hover {\n",
              "    background-color: var(--hover-bg-color);\n",
              "    box-shadow: 0 1px 2px rgba(60, 64, 67, 0.3), 0 1px 3px 1px rgba(60, 64, 67, 0.15);\n",
              "    fill: var(--button-hover-fill-color);\n",
              "  }\n",
              "\n",
              "  .colab-df-quickchart-complete:disabled,\n",
              "  .colab-df-quickchart-complete:disabled:hover {\n",
              "    background-color: var(--disabled-bg-color);\n",
              "    fill: var(--disabled-fill-color);\n",
              "    box-shadow: none;\n",
              "  }\n",
              "\n",
              "  .colab-df-spinner {\n",
              "    border: 2px solid var(--fill-color);\n",
              "    border-color: transparent;\n",
              "    border-bottom-color: var(--fill-color);\n",
              "    animation:\n",
              "      spin 1s steps(1) infinite;\n",
              "  }\n",
              "\n",
              "  @keyframes spin {\n",
              "    0% {\n",
              "      border-color: transparent;\n",
              "      border-bottom-color: var(--fill-color);\n",
              "      border-left-color: var(--fill-color);\n",
              "    }\n",
              "    20% {\n",
              "      border-color: transparent;\n",
              "      border-left-color: var(--fill-color);\n",
              "      border-top-color: var(--fill-color);\n",
              "    }\n",
              "    30% {\n",
              "      border-color: transparent;\n",
              "      border-left-color: var(--fill-color);\n",
              "      border-top-color: var(--fill-color);\n",
              "      border-right-color: var(--fill-color);\n",
              "    }\n",
              "    40% {\n",
              "      border-color: transparent;\n",
              "      border-right-color: var(--fill-color);\n",
              "      border-top-color: var(--fill-color);\n",
              "    }\n",
              "    60% {\n",
              "      border-color: transparent;\n",
              "      border-right-color: var(--fill-color);\n",
              "    }\n",
              "    80% {\n",
              "      border-color: transparent;\n",
              "      border-right-color: var(--fill-color);\n",
              "      border-bottom-color: var(--fill-color);\n",
              "    }\n",
              "    90% {\n",
              "      border-color: transparent;\n",
              "      border-bottom-color: var(--fill-color);\n",
              "    }\n",
              "  }\n",
              "</style>\n",
              "\n",
              "  <script>\n",
              "    async function quickchart(key) {\n",
              "      const quickchartButtonEl =\n",
              "        document.querySelector('#' + key + ' button');\n",
              "      quickchartButtonEl.disabled = true;  // To prevent multiple clicks.\n",
              "      quickchartButtonEl.classList.add('colab-df-spinner');\n",
              "      try {\n",
              "        const charts = await google.colab.kernel.invokeFunction(\n",
              "            'suggestCharts', [key], {});\n",
              "      } catch (error) {\n",
              "        console.error('Error during call to suggestCharts:', error);\n",
              "      }\n",
              "      quickchartButtonEl.classList.remove('colab-df-spinner');\n",
              "      quickchartButtonEl.classList.add('colab-df-quickchart-complete');\n",
              "    }\n",
              "    (() => {\n",
              "      let quickchartButtonEl =\n",
              "        document.querySelector('#df-eb9358b9-d0fa-4499-9e7b-e65aa36459ce button');\n",
              "      quickchartButtonEl.style.display =\n",
              "        google.colab.kernel.accessAllowed ? 'block' : 'none';\n",
              "    })();\n",
              "  </script>\n",
              "</div>\n",
              "\n",
              "    </div>\n",
              "  </div>\n"
            ],
            "application/vnd.google.colaboratory.intrinsic+json": {
              "type": "dataframe",
              "variable_name": "train_df",
              "summary": "{\n  \"name\": \"train_df\",\n  \"rows\": 2061,\n  \"fields\": [\n    {\n      \"column\": \"text\",\n      \"properties\": {\n        \"dtype\": \"string\",\n        \"num_unique_values\": 2059,\n        \"samples\": [\n          \"stupid, the interface is not clear!!\",\n          \"I would like zoom to be able to work in background with picture in picture video like facetime does.\",\n          \"very good application developers please turn on the sound when you log in from the phone\"\n        ],\n        \"semantic_type\": \"\",\n        \"description\": \"\"\n      }\n    },\n    {\n      \"column\": \"reason\",\n      \"properties\": {\n        \"dtype\": \"string\",\n        \"num_unique_values\": 2061,\n        \"samples\": [\n          \"sound connection is poor\",\n          \"want the app to run in background with picture in picture video\",\n          \"want to join\"\n        ],\n        \"semantic_type\": \"\",\n        \"description\": \"\"\n      }\n    },\n    {\n      \"column\": \"label\",\n      \"properties\": {\n        \"dtype\": \"number\",\n        \"std\": 0,\n        \"min\": 1,\n        \"max\": 1,\n        \"num_unique_values\": 1,\n        \"samples\": [\n          1\n        ],\n        \"semantic_type\": \"\",\n        \"description\": \"\"\n      }\n    }\n  ]\n}"
            }
          },
          "metadata": {},
          "execution_count": 2
        }
      ]
    },
    {
      "cell_type": "code",
      "source": [
        "train_df.info()"
      ],
      "metadata": {
        "colab": {
          "base_uri": "https://localhost:8080/"
        },
        "id": "pfdPKzOTp9zl",
        "outputId": "59807f7e-addd-44fb-ecf9-0fe9e5be403a"
      },
      "execution_count": 3,
      "outputs": [
        {
          "output_type": "stream",
          "name": "stdout",
          "text": [
            "<class 'pandas.core.frame.DataFrame'>\n",
            "RangeIndex: 2061 entries, 0 to 2060\n",
            "Data columns (total 3 columns):\n",
            " #   Column  Non-Null Count  Dtype \n",
            "---  ------  --------------  ----- \n",
            " 0   text    2061 non-null   object\n",
            " 1   reason  2061 non-null   object\n",
            " 2   label   2061 non-null   int64 \n",
            "dtypes: int64(1), object(2)\n",
            "memory usage: 48.4+ KB\n"
          ]
        }
      ]
    },
    {
      "cell_type": "code",
      "source": [
        "eval_df.info()"
      ],
      "metadata": {
        "colab": {
          "base_uri": "https://localhost:8080/"
        },
        "id": "kr0NJjLhqPJ8",
        "outputId": "2606d8e3-7fb2-4358-eb1a-296275ff98c3"
      },
      "execution_count": 4,
      "outputs": [
        {
          "output_type": "stream",
          "name": "stdout",
          "text": [
            "<class 'pandas.core.frame.DataFrame'>\n",
            "RangeIndex: 9000 entries, 0 to 8999\n",
            "Data columns (total 3 columns):\n",
            " #   Column  Non-Null Count  Dtype \n",
            "---  ------  --------------  ----- \n",
            " 0   text    9000 non-null   object\n",
            " 1   reason  9000 non-null   object\n",
            " 2   label   9000 non-null   int64 \n",
            "dtypes: int64(1), object(2)\n",
            "memory usage: 211.1+ KB\n"
          ]
        }
      ]
    },
    {
      "cell_type": "code",
      "source": [
        "# Check class distribution\n",
        "print(\"Train Data Class Distribution:\\n\", train_df[\"label\"].value_counts())\n",
        "print(\"Evaluation Data Class Distribution:\\n\", eval_df[\"label\"].value_counts())"
      ],
      "metadata": {
        "colab": {
          "base_uri": "https://localhost:8080/"
        },
        "id": "cWXIo8kXqTgw",
        "outputId": "13f78d74-e0e2-4df5-bcf3-c4530de01ebb"
      },
      "execution_count": 5,
      "outputs": [
        {
          "output_type": "stream",
          "name": "stdout",
          "text": [
            "Train Data Class Distribution:\n",
            " label\n",
            "1    2061\n",
            "Name: count, dtype: int64\n",
            "Evaluation Data Class Distribution:\n",
            " label\n",
            "0    5999\n",
            "1    3001\n",
            "Name: count, dtype: int64\n"
          ]
        }
      ]
    },
    {
      "cell_type": "code",
      "source": [
        "# Text Cleaning Function\n",
        "def clean_text(text):\n",
        "    text = text.lower()\n",
        "    text = re.sub(r\"\\d+\", \"\", text) # Remove numbers\n",
        "    text = re.sub(r\"https?://\\S+|www\\.\\S+\", \"\", text)  # Remove URLs\n",
        "    text = re.sub(r\"<.*?>\", \"\", text)  # Remove HTML tags\n",
        "    text = re.sub(r\"[^a-zA-Z0-9\\s]\", \"\", text)  # Remove special characters\n",
        "    text = re.sub(r\"\\s+\", \" \", text).strip()  # Remove extra spaces\n",
        "    return text\n"
      ],
      "metadata": {
        "id": "9G1sFRUIsn1Q"
      },
      "execution_count": 6,
      "outputs": []
    },
    {
      "cell_type": "code",
      "source": [
        "# Apply text cleaning\n",
        "train_df[\"text\"] = train_df[\"text\"].apply(clean_text)\n",
        "train_df[\"reason\"] = train_df[\"reason\"].apply(clean_text)\n",
        "eval_df[\"text\"] = eval_df[\"text\"].apply(clean_text)\n",
        "eval_df[\"reason\"] = eval_df[\"reason\"].apply(clean_text)"
      ],
      "metadata": {
        "id": "uxbMbTv2sori"
      },
      "execution_count": 7,
      "outputs": []
    },
    {
      "cell_type": "code",
      "source": [
        "# Synonym Replacement for Data Augmentation\n",
        "def synonym_replacement(text, n=2):\n",
        "    words = text.split()\n",
        "    new_words = words.copy()\n",
        "    for _ in range(n):\n",
        "        word_idx = random.randint(0, len(words) - 1)\n",
        "        synonyms = wordnet.synsets(words[word_idx])\n",
        "        if synonyms:\n",
        "            synonym = synonyms[0].lemmas()[0].name()\n",
        "            new_words[word_idx] = synonym.replace(\"_\", \" \")  # Replace underscores if any\n",
        "    return \" \".join(new_words)"
      ],
      "metadata": {
        "id": "2yBtdAA_YQ_2"
      },
      "execution_count": 8,
      "outputs": []
    },
    {
      "cell_type": "code",
      "source": [
        "# Generate negative examples for training data (if needed)\n",
        "def generate_negative_pairs(df, num_negatives=None):\n",
        "    if num_negatives is None:\n",
        "        num_negatives = len(df)  # Match number of positive examples\n",
        "\n",
        "    negative_samples = pd.DataFrame({\n",
        "        \"text\": df[\"text\"].sample(n=num_negatives, replace=True).values,\n",
        "        \"reason\": df[\"reason\"].sample(n=num_negatives, replace=True).values,\n",
        "        \"label\": 0\n",
        "    })\n",
        "    # Remove accidental positive matches\n",
        "    negative_samples = negative_samples[negative_samples[\"text\"] != negative_samples[\"reason\"]]\n",
        "    return pd.concat([df, negative_samples]).sample(frac=1).reset_index(drop=True)\n",
        "\n",
        "# Augment training data with negative examples\n",
        "train_df = generate_negative_pairs(train_df)"
      ],
      "metadata": {
        "id": "pN0mEoTFtdeB"
      },
      "execution_count": 9,
      "outputs": []
    },
    {
      "cell_type": "code",
      "source": [
        "# Augment training data\n",
        "train_df[\"augmented_text\"] = train_df[\"text\"].apply(lambda x: synonym_replacement(x) if random.random() < 0.3 else x)\n",
        "train_df[\"augmented_reason\"] = train_df[\"reason\"].apply(lambda x: synonym_replacement(x) if random.random() < 0.3 else x)"
      ],
      "metadata": {
        "id": "X-nxKPPAbhZB"
      },
      "execution_count": 10,
      "outputs": []
    },
    {
      "cell_type": "code",
      "source": [
        "# Handle class imbalance in evaluation dataset (Optional: Downsample majority class)\n",
        "def balance_evaluation_set(df):\n",
        "    class_0 = df[df[\"label\"] == 0]\n",
        "    class_1 = df[df[\"label\"] == 1]\n",
        "    class_0_downsampled = resample(class_0, replace=False, n_samples=len(class_1), random_state=42)\n",
        "    return pd.concat([class_0_downsampled, class_1]).sample(frac=1).reset_index(drop=True)\n",
        "\n",
        "eval_df = balance_evaluation_set(eval_df)"
      ],
      "metadata": {
        "id": "hfR8YG9w9kG4"
      },
      "execution_count": 11,
      "outputs": []
    },
    {
      "cell_type": "code",
      "source": [
        "train_df = pd.concat([train_df, eval_df.sample(n=1000, random_state=42)])"
      ],
      "metadata": {
        "id": "t_lOk_cGQNvK"
      },
      "execution_count": 12,
      "outputs": []
    },
    {
      "cell_type": "code",
      "source": [
        "# # Further downsample evaluation dataset by 2000 rows while keeping balance\n",
        "# def downsample_evaluation_set(df, num_samples=1000):\n",
        "#     class_0 = df[df[\"label\"] == 0].sample(n=len(df[df[\"label\"] == 0]) - num_samples, random_state=42)\n",
        "#     class_1 = df[df[\"label\"] == 1].sample(n=len(df[df[\"label\"] == 1]) - num_samples, random_state=42)\n",
        "#     return pd.concat([class_0, class_1]).sample(frac=1).reset_index(drop=True)\n",
        "\n",
        "\n",
        "# # Then, downsample it further\n",
        "# eval_df = downsample_evaluation_set(eval_df)\n"
      ],
      "metadata": {
        "id": "qQPM7h8LGjuR"
      },
      "execution_count": 13,
      "outputs": []
    },
    {
      "cell_type": "code",
      "source": [
        "# Check class distribution\n",
        "print(\"Train Data Class Distribution:\\n\", train_df[\"label\"].value_counts())\n",
        "print(\"Evaluation Data Class Distribution:\\n\", eval_df[\"label\"].value_counts())"
      ],
      "metadata": {
        "colab": {
          "base_uri": "https://localhost:8080/"
        },
        "id": "F97z8cMe_HRJ",
        "outputId": "91f06437-ad77-4fe8-87a8-516548c193f1"
      },
      "execution_count": 14,
      "outputs": [
        {
          "output_type": "stream",
          "name": "stdout",
          "text": [
            "Train Data Class Distribution:\n",
            " label\n",
            "0    2561\n",
            "1    2561\n",
            "Name: count, dtype: int64\n",
            "Evaluation Data Class Distribution:\n",
            " label\n",
            "0    3001\n",
            "1    3001\n",
            "Name: count, dtype: int64\n"
          ]
        }
      ]
    },
    {
      "cell_type": "code",
      "source": [
        "train_df.info()"
      ],
      "metadata": {
        "colab": {
          "base_uri": "https://localhost:8080/"
        },
        "id": "LuH4jFugaYcY",
        "outputId": "7d7f622b-91bf-4af2-c665-ea2dcfa17459"
      },
      "execution_count": 15,
      "outputs": [
        {
          "output_type": "stream",
          "name": "stdout",
          "text": [
            "<class 'pandas.core.frame.DataFrame'>\n",
            "Index: 5122 entries, 0 to 5001\n",
            "Data columns (total 5 columns):\n",
            " #   Column            Non-Null Count  Dtype \n",
            "---  ------            --------------  ----- \n",
            " 0   text              5122 non-null   object\n",
            " 1   reason            5122 non-null   object\n",
            " 2   label             5122 non-null   int64 \n",
            " 3   augmented_text    4122 non-null   object\n",
            " 4   augmented_reason  4122 non-null   object\n",
            "dtypes: int64(1), object(4)\n",
            "memory usage: 240.1+ KB\n"
          ]
        }
      ]
    },
    {
      "cell_type": "code",
      "source": [
        "# Ensure no NaN values in the augmented columns\n",
        "train_df[\"augmented_text\"] = train_df[\"augmented_text\"].fillna(train_df[\"text\"])\n",
        "train_df[\"augmented_reason\"] = train_df[\"augmented_reason\"].fillna(train_df[\"reason\"])"
      ],
      "metadata": {
        "id": "EVzgWVkvcqGl"
      },
      "execution_count": 16,
      "outputs": []
    },
    {
      "cell_type": "code",
      "source": [
        "# Combine 'text' and 'reason'\n",
        "train_df[\"combined_text\"] = train_df[\"augmented_text\"] + \" [SEP] \" + train_df[\"augmented_reason\"]\n",
        "eval_df[\"combined_text\"] = eval_df[\"text\"] + \" [SEP] \" + eval_df[\"reason\"]"
      ],
      "metadata": {
        "id": "Qf7dJAsJrhqB"
      },
      "execution_count": 17,
      "outputs": []
    },
    {
      "cell_type": "code",
      "source": [
        "# Train-Validation Split\n",
        "train_texts, val_texts, train_labels, val_labels = train_test_split(\n",
        "    train_df[\"combined_text\"].values, train_df[\"label\"].values, test_size=0.2, random_state=42\n",
        ")"
      ],
      "metadata": {
        "id": "omYmGWFL_tR_"
      },
      "execution_count": 18,
      "outputs": []
    },
    {
      "cell_type": "code",
      "source": [
        "# Compute class weights\n",
        "class_weights = class_weight.compute_class_weight(\n",
        "    class_weight=\"balanced\",\n",
        "    classes=np.unique(train_df[\"label\"]),\n",
        "    y=train_df[\"label\"]\n",
        ")\n",
        "class_weights_dict = {i: class_weights[i] for i in range(len(class_weights))}\n"
      ],
      "metadata": {
        "id": "3ZezJvfYr2Ay"
      },
      "execution_count": 19,
      "outputs": []
    },
    {
      "cell_type": "code",
      "source": [
        "# Tokenization\n",
        "tokenizer = BertTokenizer.from_pretrained(\"bert-base-uncased\")\n",
        "\n",
        "def tokenize(texts, max_len=128):\n",
        "    return tokenizer(\n",
        "        list(texts),\n",
        "        padding=\"max_length\",\n",
        "        truncation=True,\n",
        "        max_length=max_len,\n",
        "        return_tensors=\"tf\"\n",
        "    )"
      ],
      "metadata": {
        "colab": {
          "base_uri": "https://localhost:8080/"
        },
        "id": "tcGrwcZwuNOE",
        "outputId": "4d03ae6a-ca65-456b-ad24-e48a86af1ef8"
      },
      "execution_count": 20,
      "outputs": [
        {
          "output_type": "stream",
          "name": "stderr",
          "text": [
            "/usr/local/lib/python3.11/dist-packages/huggingface_hub/utils/_auth.py:94: UserWarning: \n",
            "The secret `HF_TOKEN` does not exist in your Colab secrets.\n",
            "To authenticate with the Hugging Face Hub, create a token in your settings tab (https://huggingface.co/settings/tokens), set it as secret in your Google Colab and restart your session.\n",
            "You will be able to reuse this secret in all of your notebooks.\n",
            "Please note that authentication is recommended but still optional to access public models or datasets.\n",
            "  warnings.warn(\n"
          ]
        }
      ]
    },
    {
      "cell_type": "code",
      "source": [
        "# Encode text data\n",
        "train_encodings = tokenize(train_texts)\n",
        "val_encodings = tokenize(val_texts)\n",
        "eval_encodings = tokenize(eval_df[\"combined_text\"].values)"
      ],
      "metadata": {
        "id": "Ct90PwDZuXxQ"
      },
      "execution_count": 21,
      "outputs": []
    },
    {
      "cell_type": "code",
      "source": [
        "# Convert to TensorFlow dataset\n",
        "train_dataset = tf.data.Dataset.from_tensor_slices((dict(train_encodings), train_labels)).shuffle(1000).batch(16)\n",
        "val_dataset = tf.data.Dataset.from_tensor_slices((dict(val_encodings), val_labels)).batch(16)\n",
        "eval_dataset = tf.data.Dataset.from_tensor_slices((dict(eval_encodings), eval_df[\"label\"].values)).batch(16)\n"
      ],
      "metadata": {
        "id": "jACmeytbuktP"
      },
      "execution_count": 22,
      "outputs": []
    },
    {
      "cell_type": "code",
      "source": [
        "# Load BERT Model\n",
        "model = TFBertForSequenceClassification.from_pretrained(\"bert-base-uncased\", num_labels=2)"
      ],
      "metadata": {
        "colab": {
          "base_uri": "https://localhost:8080/"
        },
        "id": "M78TdAPHuv5o",
        "outputId": "3c8803c5-798f-4e7b-9a15-d5f5d4c34fdf"
      },
      "execution_count": 23,
      "outputs": [
        {
          "output_type": "stream",
          "name": "stderr",
          "text": [
            "All PyTorch model weights were used when initializing TFBertForSequenceClassification.\n",
            "\n",
            "Some weights or buffers of the TF 2.0 model TFBertForSequenceClassification were not initialized from the PyTorch model and are newly initialized: ['classifier.weight', 'classifier.bias']\n",
            "You should probably TRAIN this model on a down-stream task to be able to use it for predictions and inference.\n"
          ]
        }
      ]
    },
    {
      "cell_type": "code",
      "source": [
        "# Compile Model\n",
        "optimizer = tf.optimizers.Adam(learning_rate=1e-5)\n",
        "model.compile(optimizer=optimizer, loss=tf.keras.losses.SparseCategoricalCrossentropy(from_logits=True), metrics=[\"accuracy\"])\n"
      ],
      "metadata": {
        "id": "X3dguiMXu4DR"
      },
      "execution_count": 24,
      "outputs": []
    },
    {
      "cell_type": "code",
      "source": [
        "# Train Model\n",
        "history = model.fit(train_dataset, validation_data=val_dataset, epochs=7, class_weight=class_weights_dict)"
      ],
      "metadata": {
        "colab": {
          "base_uri": "https://localhost:8080/"
        },
        "id": "LNYZa48xv2oj",
        "outputId": "75df1996-a8c3-4922-c9a1-bf65ae41c1d7"
      },
      "execution_count": 25,
      "outputs": [
        {
          "output_type": "stream",
          "name": "stdout",
          "text": [
            "Epoch 1/7\n",
            "257/257 [==============================] - 168s 460ms/step - loss: 0.3807 - accuracy: 0.8306 - val_loss: 0.2445 - val_accuracy: 0.9112\n",
            "Epoch 2/7\n",
            "257/257 [==============================] - 112s 436ms/step - loss: 0.2135 - accuracy: 0.9163 - val_loss: 0.2313 - val_accuracy: 0.9112\n",
            "Epoch 3/7\n",
            "257/257 [==============================] - 112s 437ms/step - loss: 0.1508 - accuracy: 0.9426 - val_loss: 0.2471 - val_accuracy: 0.9112\n",
            "Epoch 4/7\n",
            "257/257 [==============================] - 111s 433ms/step - loss: 0.1068 - accuracy: 0.9595 - val_loss: 0.2613 - val_accuracy: 0.9220\n",
            "Epoch 5/7\n",
            "257/257 [==============================] - 112s 437ms/step - loss: 0.0819 - accuracy: 0.9707 - val_loss: 0.2757 - val_accuracy: 0.9083\n",
            "Epoch 6/7\n",
            "257/257 [==============================] - 111s 432ms/step - loss: 0.0486 - accuracy: 0.9832 - val_loss: 0.3385 - val_accuracy: 0.9083\n",
            "Epoch 7/7\n",
            "257/257 [==============================] - 112s 436ms/step - loss: 0.0458 - accuracy: 0.9851 - val_loss: 0.3284 - val_accuracy: 0.9122\n"
          ]
        }
      ]
    },
    {
      "cell_type": "code",
      "source": [
        "# # Save Model\n",
        "# model.save_pretrained(\"bert_text_classifier\")"
      ],
      "metadata": {
        "id": "rZl-nE2a12aY"
      },
      "execution_count": 26,
      "outputs": []
    },
    {
      "cell_type": "code",
      "source": [
        "# Function for Predictions with Threshold\n",
        "\n",
        "def predict_with_threshold(model, tokenizer, texts, threshold=0.7):\n",
        "    encodings = tokenize(texts)\n",
        "    predictions = model.predict(dict(encodings)).logits\n",
        "    probs = tf.nn.softmax(predictions, axis=1).numpy()\n",
        "    return (probs[:, 1] > threshold).astype(int)\n"
      ],
      "metadata": {
        "id": "y4NYVM0k16Zp"
      },
      "execution_count": 33,
      "outputs": []
    },
    {
      "cell_type": "code",
      "source": [
        "# Function for Predictions WITHOUT threshold\n",
        "def predict_without_threshold(model, tokenizer, texts):\n",
        "    encodings = tokenize(texts)\n",
        "    predictions = model.predict(dict(encodings)).logits\n",
        "    probs = tf.nn.softmax(predictions, axis=1).numpy()\n",
        "    return np.argmax(probs, axis=1)  # Get the class with the highest probability\n"
      ],
      "metadata": {
        "id": "hbBi-4BAJ1Bq"
      },
      "execution_count": 31,
      "outputs": []
    },
    {
      "cell_type": "code",
      "source": [
        "# Evaluate on Test Data WITHOUT threshold\n",
        "eval_preds = predict_with_threshold(model, tokenizer, eval_df[\"combined_text\"].values)\n",
        "print(classification_report(eval_df[\"label\"].values, eval_preds))\n"
      ],
      "metadata": {
        "colab": {
          "base_uri": "https://localhost:8080/"
        },
        "id": "5MMYSdT22ElV",
        "outputId": "37428fca-c904-4bb1-e3d6-e37a8f68df5c"
      },
      "execution_count": 34,
      "outputs": [
        {
          "output_type": "stream",
          "name": "stdout",
          "text": [
            "188/188 [==============================] - 52s 275ms/step\n",
            "              precision    recall  f1-score   support\n",
            "\n",
            "           0       0.86      0.73      0.79      3001\n",
            "           1       0.77      0.88      0.82      3001\n",
            "\n",
            "    accuracy                           0.81      6002\n",
            "   macro avg       0.81      0.81      0.80      6002\n",
            "weighted avg       0.81      0.81      0.80      6002\n",
            "\n"
          ]
        }
      ]
    },
    {
      "cell_type": "code",
      "source": [
        "# Function for Manual Prediction\n",
        "def manual_predict(text, reason, model, tokenizer, threshold=0.7):\n",
        "    combined_text = text + \" [SEP] \" + reason\n",
        "    encodings = tokenize([combined_text])\n",
        "    predictions = model.predict(dict(encodings)).logits\n",
        "    probs = tf.nn.softmax(predictions, axis=1).numpy()\n",
        "    pred_label = 1 if probs[0][1] > threshold else 0  # Apply threshold\n",
        "\n",
        "    print(f\"Prediction: {pred_label} (1 = Valuable, 0 = Not Valuable)\")\n",
        "    return pred_label\n",
        "\n",
        "# Example Test\n",
        "sample_text = \"This product is amazing and highly recommened!\"\n",
        "sample_reason = \"The quality is waste , and the price is reasonable.\"\n",
        "\n",
        "manual_predict(sample_text, sample_reason, model, tokenizer)\n"
      ],
      "metadata": {
        "id": "OGVjlcWdOGVJ",
        "colab": {
          "base_uri": "https://localhost:8080/"
        },
        "outputId": "4e802aeb-fd08-4f9b-9f67-feeec4d078af"
      },
      "execution_count": 48,
      "outputs": [
        {
          "output_type": "stream",
          "name": "stdout",
          "text": [
            "1/1 [==============================] - 0s 79ms/step\n",
            "Prediction: 0 (1 = Valuable, 0 = Not Valuable)\n"
          ]
        },
        {
          "output_type": "execute_result",
          "data": {
            "text/plain": [
              "0"
            ]
          },
          "metadata": {},
          "execution_count": 48
        }
      ]
    },
    {
      "cell_type": "code",
      "source": [
        "from google.colab import drive\n",
        "drive.mount('/content/drive')"
      ],
      "metadata": {
        "colab": {
          "base_uri": "https://localhost:8080/"
        },
        "id": "gM2D3vvh8Cro",
        "outputId": "6acb15ab-b3fa-4135-9177-9465119adc44"
      },
      "execution_count": 43,
      "outputs": [
        {
          "output_type": "stream",
          "name": "stdout",
          "text": [
            "Mounted at /content/drive\n"
          ]
        }
      ]
    },
    {
      "cell_type": "code",
      "source": [
        "save_directory = \"/content/drive/MyDrive/model\"\n",
        "\n",
        "# Create the directory if it doesn't exist\n",
        "import os\n",
        "os.makedirs(save_directory, exist_ok=True)\n",
        "\n",
        "# Save the model\n",
        "model.save_pretrained(save_directory)\n",
        "\n",
        "print(f\"Model saved successfully at: {save_directory}\")\n"
      ],
      "metadata": {
        "colab": {
          "base_uri": "https://localhost:8080/"
        },
        "id": "PJf9l6IF7vMx",
        "outputId": "639a1e1a-0271-4f9b-85e0-a5a21f344503"
      },
      "execution_count": 45,
      "outputs": [
        {
          "output_type": "stream",
          "name": "stdout",
          "text": [
            "Model saved successfully at: /content/drive/MyDrive/model\n"
          ]
        }
      ]
    },
    {
      "cell_type": "code",
      "source": [
        "tokenizer.save_pretrained(\"/content/drive/MyDrive/model\")"
      ],
      "metadata": {
        "colab": {
          "base_uri": "https://localhost:8080/"
        },
        "id": "7rMYX2LD9unZ",
        "outputId": "00c88d21-7535-4b4b-b512-e72a9259221d"
      },
      "execution_count": 47,
      "outputs": [
        {
          "output_type": "execute_result",
          "data": {
            "text/plain": [
              "('/content/drive/MyDrive/model/tokenizer_config.json',\n",
              " '/content/drive/MyDrive/model/special_tokens_map.json',\n",
              " '/content/drive/MyDrive/model/vocab.txt',\n",
              " '/content/drive/MyDrive/model/added_tokens.json')"
            ]
          },
          "metadata": {},
          "execution_count": 47
        }
      ]
    },
    {
      "cell_type": "code",
      "source": [],
      "metadata": {
        "id": "Hi0qRAtAAIen"
      },
      "execution_count": null,
      "outputs": []
    }
  ]
}